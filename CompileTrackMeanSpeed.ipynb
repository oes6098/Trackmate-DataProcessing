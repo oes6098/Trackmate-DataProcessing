{
 "cells": [
  {
   "cell_type": "code",
   "execution_count": 1,
   "metadata": {},
   "outputs": [
    {
     "ename": "SyntaxError",
     "evalue": "invalid syntax (2098696208.py, line 2)",
     "output_type": "error",
     "traceback": [
      "\u001b[1;36m  Cell \u001b[1;32mIn[1], line 2\u001b[1;36m\u001b[0m\n\u001b[1;33m    pip install pandas\u001b[0m\n\u001b[1;37m        ^\u001b[0m\n\u001b[1;31mSyntaxError\u001b[0m\u001b[1;31m:\u001b[0m invalid syntax\n"
     ]
    }
   ],
   "source": [
    "#Make sure pandas is installed\n",
    "pip install pandas"
   ]
  },
  {
   "cell_type": "markdown",
   "metadata": {},
   "source": [
    "## Batch Extract and Compile Mean Speed Data "
   ]
  },
  {
   "cell_type": "markdown",
   "metadata": {},
   "source": [
    "# Filter out tracks less than 10sec duration"
   ]
  },
  {
   "cell_type": "code",
   "execution_count": 2,
   "metadata": {},
   "outputs": [
    {
     "name": "stdout",
     "output_type": "stream",
     "text": [
      "file exists\n",
      "file exists\n",
      "file exists\n",
      "file exists\n",
      "file exists\n",
      "Results saved successfully.\n"
     ]
    }
   ],
   "source": [
    "import os\n",
    "import pandas as pd\n",
    "import numpy as np\n",
    "from tkinter import filedialog\n",
    "import tkinter as tk\n",
    "\n",
    "# Create a Tkinter root window\n",
    "root = tk.Tk()\n",
    "root.withdraw()  # Hide the root window\n",
    "\n",
    "# Ask user to select the input directory using a file dialog\n",
    "input_directory = filedialog.askdirectory(title=\"Select Input Directory\")\n",
    "\n",
    "# Check if a directory was selected\n",
    "if not input_directory:\n",
    "    print(\"No directory selected. Exiting...\")\n",
    "    exit()\n",
    "\n",
    "# Create a list to store NumPy arrays\n",
    "result_arrays = []\n",
    "\n",
    "# Iterate over folders in the directory\n",
    "for folder_name in os.listdir(input_directory):\n",
    "    folder_path = os.path.join(input_directory, folder_name)\n",
    "    \n",
    "    # Check if the item in the directory is a folder\n",
    "    if os.path.isdir(folder_path):\n",
    "        print('file exists')\n",
    "        # Check if export.csv exists in the folder\n",
    "        export_csv_path = os.path.join(folder_path, 'export.csv')\n",
    "        if not os.path.exists(export_csv_path):\n",
    "            print(f\"export.csv not found in folder '{folder_name}'. Skipping...\")\n",
    "            continue\n",
    "        \n",
    "        # Read the CSV file into a pandas DataFrame\n",
    "        df = pd.read_csv(export_csv_path)\n",
    "\n",
    "        # Convert 'TRACK_MEAN_SPEED' and 'TRACK_DURATION' to numeric values\n",
    "        df['TRACK_MEAN_SPEED'] = pd.to_numeric(df['TRACK_MEAN_SPEED'], errors='coerce')\n",
    "        df['TRACK_DURATION'] = pd.to_numeric(df['TRACK_DURATION'], errors='coerce')\n",
    "\n",
    "        # Filter rows starting from the 5th row based on conditions\n",
    "        filtered_rows = df.iloc[4:].loc[(~df['TRACK_MEAN_SPEED'].isna()) & (df['TRACK_DURATION'] >= 10)]\n",
    "\n",
    "        # Extract values from column 'TRACK_MEAN_SPEED' and convert them to a NumPy array\n",
    "        result_array = np.array(filtered_rows['TRACK_MEAN_SPEED'])\n",
    "\n",
    "        # Add the NumPy array to the list\n",
    "        result_arrays.append(result_array)\n",
    "\n",
    "if result_arrays:\n",
    "    # Create a DataFrame from the list of arrays\n",
    "    result_df = pd.DataFrame(result_arrays).T\n",
    "    result_df.columns = [f'Column_{i+1}' for i in range(result_df.shape[1])]\n",
    "\n",
    "    # Save the resulting DataFrame to a CSV file\n",
    "    result_df.to_csv(os.path.join(input_directory, 'meanspeedresults10sec.csv'), index=False)\n",
    "    print(\"Results saved successfully.\")\n",
    "else:\n",
    "    print(\"No valid data found to save.\")\n"
   ]
  },
  {
   "cell_type": "markdown",
   "metadata": {},
   "source": [
    "# Filter out tracks less than 20sec duration"
   ]
  },
  {
   "cell_type": "code",
   "execution_count": null,
   "metadata": {},
   "outputs": [],
   "source": [
    "import os\n",
    "import pandas as pd\n",
    "import numpy as np\n",
    "from tkinter import filedialog\n",
    "import tkinter as tk\n",
    "\n",
    "# Create a Tkinter root window\n",
    "root = tk.Tk()\n",
    "root.withdraw()  # Hide the root window\n",
    "\n",
    "# Ask user to select the input directory using a file dialog\n",
    "input_directory = filedialog.askdirectory(title=\"Select Input Directory\")\n",
    "\n",
    "# Check if a directory was selected\n",
    "if not input_directory:\n",
    "    print(\"No directory selected. Exiting...\")\n",
    "    exit()\n",
    "\n",
    "# Create a list to store NumPy arrays\n",
    "result_arrays = []\n",
    "\n",
    "# Iterate over folders in the directory\n",
    "for folder_name in os.listdir(input_directory):\n",
    "    folder_path = os.path.join(input_directory, folder_name)\n",
    "    \n",
    "    # Check if the item in the directory is a folder\n",
    "    if os.path.isdir(folder_path):\n",
    "        print('file exists')\n",
    "        # Check if export.csv exists in the folder\n",
    "        export_csv_path = os.path.join(folder_path, 'export.csv')\n",
    "        if not os.path.exists(export_csv_path):\n",
    "            print(f\"export.csv not found in folder '{folder_name}'. Skipping...\")\n",
    "            continue\n",
    "        \n",
    "        # Read the CSV file into a pandas DataFrame\n",
    "        df = pd.read_csv(export_csv_path)\n",
    "\n",
    "        # Convert 'TRACK_MEAN_SPEED' and 'TRACK_DURATION' to numeric values\n",
    "        df['TRACK_MEAN_SPEED'] = pd.to_numeric(df['TRACK_MEAN_SPEED'], errors='coerce')\n",
    "        df['TRACK_DURATION'] = pd.to_numeric(df['TRACK_DURATION'], errors='coerce')\n",
    "\n",
    "        # Filter rows starting from the 5th row based on conditions\n",
    "        filtered_rows = df.iloc[4:].loc[(~df['TRACK_MEAN_SPEED'].isna()) & (df['TRACK_DURATION'] >= 20)]\n",
    "\n",
    "        # Extract values from column 'TRACK_MEAN_SPEED' and convert them to a NumPy array\n",
    "        result_array = np.array(filtered_rows['TRACK_MEAN_SPEED'])\n",
    "\n",
    "        # Add the NumPy array to the list\n",
    "        result_arrays.append(result_array)\n",
    "\n",
    "if result_arrays:\n",
    "    # Create a DataFrame from the list of arrays\n",
    "    result_df = pd.DataFrame(result_arrays).T\n",
    "    result_df.columns = [f'Column_{i+1}' for i in range(result_df.shape[1])]\n",
    "\n",
    "    # Save the resulting DataFrame to a CSV file\n",
    "    result_df.to_csv(os.path.join(input_directory, 'meanspeedresults20sec.csv'), index=False)\n",
    "    print(\"Results saved successfully.\")\n",
    "else:\n",
    "    print(\"No valid data found to save.\")"
   ]
  }
 ],
 "metadata": {
  "kernelspec": {
   "display_name": "Python 3",
   "language": "python",
   "name": "python3"
  },
  "language_info": {
   "codemirror_mode": {
    "name": "ipython",
    "version": 3
   },
   "file_extension": ".py",
   "mimetype": "text/x-python",
   "name": "python",
   "nbconvert_exporter": "python",
   "pygments_lexer": "ipython3",
   "version": "3.11.8"
  }
 },
 "nbformat": 4,
 "nbformat_minor": 2
}
